{
 "cells": [
  {
   "cell_type": "code",
   "execution_count": 26,
   "metadata": {},
   "outputs": [],
   "source": [
    "import drawsvg as dw\n",
    "from goamapper import generator\n",
    "import json\n",
    "from goamapper.generator import Generator\n",
    "from goamapper.models import Poster"
   ]
  },
  {
   "cell_type": "code",
   "execution_count": 25,
   "metadata": {},
   "outputs": [],
   "source": [
    "with open(\"config/cities/pl/krakow/brick/a2.json\", encoding=\"utf8\") as file:\n",
    "    data = json.load(file)"
   ]
  },
  {
   "cell_type": "code",
   "execution_count": 29,
   "metadata": {},
   "outputs": [],
   "source": [
    "p = Poster(**data)\n",
    "g = Generator(p, overwrite=False)\n",
    "g._calculate_dimentions()\n",
    "d = dw.Drawing(*g.canvas_dims[2:], id_prefix='poster')"
   ]
  },
  {
   "cell_type": "code",
   "execution_count": 30,
   "metadata": {},
   "outputs": [
    {
     "name": "stderr",
     "output_type": "stream",
     "text": [
      "/home/olek/IT/dev/goa/goa-mapper/goamapper/fetcher.py:51: FutureWarning: `unary_union` returned None due to all-None GeoSeries. In future, `unary_union` will return 'GEOMETRYCOLLECTION EMPTY' instead.\n",
      "  shape = gdf.geometry.unary_union\n"
     ]
    }
   ],
   "source": [
    "\n",
    "\n",
    "g.create_map_content()\n",
    "d.append(g.map_content)\n",
    "\n",
    "g.create_template()\n",
    "d.append(g.template)\n",
    "\n",
    "g.create_text_area()\n",
    "d.append(g.text_area)"
   ]
  },
  {
   "cell_type": "code",
   "execution_count": 40,
   "metadata": {},
   "outputs": [],
   "source": [
    "svg_str = d.as_svg()"
   ]
  },
  {
   "cell_type": "code",
   "execution_count": 41,
   "metadata": {},
   "outputs": [
    {
     "name": "stdout",
     "output_type": "stream",
     "text": [
      "<?xml version=\"1.0\" encoding=\"UTF-8\"?>\n",
      "<svg xmlns=\"http://www.w3.org/2000/svg\" xmlns:xlink=\"http://www.w3.org/1999/xlink\"\n",
      "     width=\"4960\" height=\"7016\" viewBox=\"0 0 4960 7016\">\n",
      "<defs>\n",
      "<clipPath id=\"\n",
      "<?xml version=\"1.0\" encoding=\"UTF-8\"?>\n",
      "<svg xmlns=\"http://www.w3.org/2000/svg\" xmlns:xlink=\"http://www.w3.org/1999/xlink\"\n",
      "      viewBox=\"0 0 4960 7016\">\n",
      "<defs>\n",
      "<clipPath id=\"poster0\">\n",
      "<rect x=\"150\" y=\n"
     ]
    }
   ],
   "source": [
    "\n",
    "import re\n",
    "\n",
    "\n",
    "def delete_first_occurrence(text):\n",
    "    pattern = r'width=\"\\d+\" height=\"\\d+\"'\n",
    "    result = re.sub(pattern, '', text, count=1)\n",
    "    return result\n",
    "\n",
    "\n",
    "# Example usage\n",
    "\n",
    "\n",
    "print(svg_str[:200])\n",
    "modified_svg = delete_first_occurrence(svg_str)\n",
    "print(modified_svg[:500])"
   ]
  },
  {
   "cell_type": "code",
   "execution_count": null,
   "metadata": {},
   "outputs": [],
   "source": []
  }
 ],
 "metadata": {
  "kernelspec": {
   "display_name": ".venv",
   "language": "python",
   "name": "python3"
  },
  "language_info": {
   "codemirror_mode": {
    "name": "ipython",
    "version": 3
   },
   "file_extension": ".py",
   "mimetype": "text/x-python",
   "name": "python",
   "nbconvert_exporter": "python",
   "pygments_lexer": "ipython3",
   "version": "3.11.5"
  }
 },
 "nbformat": 4,
 "nbformat_minor": 2
}
