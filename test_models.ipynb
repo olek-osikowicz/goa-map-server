{
 "cells": [
  {
   "cell_type": "code",
   "execution_count": 1,
   "metadata": {},
   "outputs": [],
   "source": [
    "from goamapper.models import Poster\n",
    "import json"
   ]
  },
  {
   "cell_type": "code",
   "execution_count": 3,
   "metadata": {},
   "outputs": [],
   "source": [
    "with open('config2.0/test.json') as f:\n",
    "    config = json.load(f)"
   ]
  },
  {
   "cell_type": "code",
   "execution_count": 4,
   "metadata": {},
   "outputs": [],
   "source": [
    "p = Poster(**config)"
   ]
  },
  {
   "cell_type": "code",
   "execution_count": 5,
   "metadata": {},
   "outputs": [
    {
     "data": {
      "text/plain": [
       "Poster(bbox=[2.092325, 41.327686, 2.242389, 41.454932], dir_name='new_conf', poster_name='Blueprint 11x14', template=Template(width=3300, height=4200, background_fill='#ffffff', map_frame=MapFrame(fill='#ffffff', offset=150, width=0), bottom_area_height=450, text_boxes=[TextBox(x=300, y=450, text='Barcelona', font_size=240, font_family='sans-serif', fill='#111111'), TextBox(x=300, y=1000, text='41.3874° N, 2.1686° E', font_size=144, font_family='sans-serif', fill='#111111')]), map_layers={'land': {'fill': '#4DA8DA'}, 'green': {'fill': '#8AD9F0', 'tags': {'leisure': 'park', 'landuse': 'forest'}}, 'water': {'fill': '#ffffff'}, 'pier': {'fill': '#4DA8DA', 'tags': {'man_made': 'pier'}}, 'streets': {'base_width': 1, 'types': {'footway': {'stroke': '#A8F2FB', 'relative_width': 1}, 'pedestrian': {'stroke': '#C6FBFF', 'relative_width': 2}, 'unclassified': {'stroke': '#C6FBFF', 'relative_width': 2}, 'service': {'stroke': '#C6FBFF', 'relative_width': 2}, 'living_street': {'stroke': '#C6FBFF', 'relative_width': 3}, 'residential': {'stroke': '#C6FBFF', 'relative_width': 3}, 'cycleway': {'stroke': '#C6FBFF', 'relative_width': 3.5}, 'tertiary': {'stroke': '#C6FBFF', 'relative_width': 3.5}, 'secondary': {'stroke': '#C6FBFF', 'relative_width': 4}, 'primary': {'stroke': '#C6FBFF', 'relative_width': 4.5}, 'trunk': {'stroke': '#C6FBFF', 'relative_width': 5}, 'motorway': {'stroke': '#C6FBFF', 'relative_width': 5}}}})"
      ]
     },
     "execution_count": 5,
     "metadata": {},
     "output_type": "execute_result"
    }
   ],
   "source": [
    "p"
   ]
  },
  {
   "cell_type": "code",
   "execution_count": 9,
   "metadata": {},
   "outputs": [
    {
     "data": {
      "text/plain": [
       "3300"
      ]
     },
     "execution_count": 9,
     "metadata": {},
     "output_type": "execute_result"
    }
   ],
   "source": [
    "p.template"
   ]
  },
  {
   "cell_type": "code",
   "execution_count": null,
   "metadata": {},
   "outputs": [],
   "source": []
  }
 ],
 "metadata": {
  "kernelspec": {
   "display_name": ".venv",
   "language": "python",
   "name": "python3"
  },
  "language_info": {
   "codemirror_mode": {
    "name": "ipython",
    "version": 3
   },
   "file_extension": ".py",
   "mimetype": "text/x-python",
   "name": "python",
   "nbconvert_exporter": "python",
   "pygments_lexer": "ipython3",
   "version": "3.11.3"
  },
  "orig_nbformat": 4
 },
 "nbformat": 4,
 "nbformat_minor": 2
}
