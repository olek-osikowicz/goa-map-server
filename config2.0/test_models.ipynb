{
 "cells": [
  {
   "cell_type": "code",
   "execution_count": 1,
   "metadata": {},
   "outputs": [],
   "source": [
    "from models import Poster, Template, TextBox, MapFrame\n",
    "import json"
   ]
  },
  {
   "cell_type": "code",
   "execution_count": 2,
   "metadata": {},
   "outputs": [],
   "source": [
    "with open('test.json') as f:\n",
    "    config = json.load(f)"
   ]
  },
  {
   "cell_type": "code",
   "execution_count": 3,
   "metadata": {},
   "outputs": [
    {
     "data": {
      "text/plain": [
       "'{\"title\": \"Poster\", \"type\": \"object\", \"properties\": {\"bbox\": {\"title\": \"Bbox\", \"type\": \"array\", \"items\": {\"type\": \"number\"}}, \"dir_name\": {\"title\": \"Dir Name\", \"type\": \"string\"}, \"poster_name\": {\"title\": \"Poster Name\", \"type\": \"string\"}, \"template\": {\"$ref\": \"#/definitions/Template\"}, \"map_layers\": {\"title\": \"Map Layers\", \"type\": \"object\"}}, \"required\": [\"bbox\", \"dir_name\", \"poster_name\", \"template\", \"map_layers\"], \"definitions\": {\"MapFrame\": {\"title\": \"MapFrame\", \"type\": \"object\", \"properties\": {\"fill\": {\"title\": \"Fill\", \"type\": \"string\"}, \"offset\": {\"title\": \"Offset\", \"type\": \"integer\"}, \"width\": {\"title\": \"Width\", \"type\": \"integer\"}}, \"required\": [\"fill\", \"offset\", \"width\"]}, \"TextBox\": {\"title\": \"TextBox\", \"type\": \"object\", \"properties\": {\"x\": {\"title\": \"X\", \"type\": \"integer\"}, \"y\": {\"title\": \"Y\", \"type\": \"integer\"}, \"text\": {\"title\": \"Text\", \"type\": \"string\"}, \"font_size\": {\"title\": \"Font Size\", \"type\": \"integer\"}, \"font_family\": {\"title\": \"Font Family\", \"type\": \"string\"}, \"fill\": {\"title\": \"Fill\", \"type\": \"string\"}}, \"required\": [\"x\", \"y\", \"text\", \"font_size\", \"font_family\", \"fill\"]}, \"Template\": {\"title\": \"Template\", \"type\": \"object\", \"properties\": {\"width\": {\"title\": \"Width\", \"type\": \"integer\"}, \"height\": {\"title\": \"Height\", \"type\": \"integer\"}, \"background_fill\": {\"title\": \"Background Fill\", \"type\": \"string\"}, \"map_frame\": {\"$ref\": \"#/definitions/MapFrame\"}, \"bottom_area_height\": {\"title\": \"Bottom Area Height\", \"type\": \"integer\"}, \"text_boxes\": {\"title\": \"Text Boxes\", \"type\": \"array\", \"items\": {\"$ref\": \"#/definitions/TextBox\"}}}, \"required\": [\"width\", \"height\", \"background_fill\", \"bottom_area_height\"]}}}'"
      ]
     },
     "execution_count": 3,
     "metadata": {},
     "output_type": "execute_result"
    }
   ],
   "source": [
    "Poster.schema_json()"
   ]
  },
  {
   "cell_type": "code",
   "execution_count": 5,
   "metadata": {},
   "outputs": [],
   "source": [
    "x = Poster(**config)"
   ]
  },
  {
   "cell_type": "code",
   "execution_count": 6,
   "metadata": {},
   "outputs": [
    {
     "data": {
      "text/plain": [
       "'{\"bbox\": [2.092325, 41.327686, 2.242389, 41.454932], \"dir_name\": \"barcelona\", \"poster_name\": \"Blueprint 11x14\", \"template\": {\"width\": 3300, \"height\": 4200, \"background_fill\": \"#ffffff\", \"map_frame\": {\"fill\": \"#ffffff\", \"offset\": 150, \"width\": 0}, \"bottom_area_height\": 450, \"text_boxes\": [{\"x\": 300, \"y\": 450, \"text\": \"Barcelona\", \"font_size\": 240, \"font_family\": \"sans-serif\", \"fill\": \"#111111\"}, {\"x\": 300, \"y\": 1000, \"text\": \"41.3874\\\\u00b0 N, 2.1686\\\\u00b0 E\", \"font_size\": 144, \"font_family\": \"sans-serif\", \"fill\": \"#111111\"}]}, \"map_layers\": {\"land\": {\"fill\": \"#4DA8DA\"}, \"green\": {\"fill\": \"#8AD9F0\", \"tags\": {\"leisure\": \"park\", \"landuse\": \"forest\"}}, \"water\": {\"fill\": \"#ffffff\"}, \"pier\": {\"fill\": \"#4DA8DA\", \"tags\": {\"man_made\": \"pier\"}}, \"streets\": {\"base_width\": 1, \"types\": {\"footway\": {\"stroke\": \"#A8F2FB\", \"relative_width\": 1}, \"pedestrian\": {\"stroke\": \"#C6FBFF\", \"relative_width\": 2}, \"unclassified\": {\"stroke\": \"#C6FBFF\", \"relative_width\": 2}, \"service\": {\"stroke\": \"#C6FBFF\", \"relative_width\": 2}, \"living_street\": {\"stroke\": \"#C6FBFF\", \"relative_width\": 3}, \"residential\": {\"stroke\": \"#C6FBFF\", \"relative_width\": 3}, \"cycleway\": {\"stroke\": \"#C6FBFF\", \"relative_width\": 3.5}, \"tertiary\": {\"stroke\": \"#C6FBFF\", \"relative_width\": 3.5}, \"secondary\": {\"stroke\": \"#C6FBFF\", \"relative_width\": 4}, \"primary\": {\"stroke\": \"#C6FBFF\", \"relative_width\": 4.5}, \"trunk\": {\"stroke\": \"#C6FBFF\", \"relative_width\": 5}, \"motorway\": {\"stroke\": \"#C6FBFF\", \"relative_width\": 5}}}}}'"
      ]
     },
     "execution_count": 6,
     "metadata": {},
     "output_type": "execute_result"
    }
   ],
   "source": [
    "x.json()"
   ]
  },
  {
   "cell_type": "code",
   "execution_count": null,
   "metadata": {},
   "outputs": [],
   "source": []
  }
 ],
 "metadata": {
  "kernelspec": {
   "display_name": ".venv",
   "language": "python",
   "name": "python3"
  },
  "language_info": {
   "codemirror_mode": {
    "name": "ipython",
    "version": 3
   },
   "file_extension": ".py",
   "mimetype": "text/x-python",
   "name": "python",
   "nbconvert_exporter": "python",
   "pygments_lexer": "ipython3",
   "version": "3.11.3"
  },
  "orig_nbformat": 4
 },
 "nbformat": 4,
 "nbformat_minor": 2
}
